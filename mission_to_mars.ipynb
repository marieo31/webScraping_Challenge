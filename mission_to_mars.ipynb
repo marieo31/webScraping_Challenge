{
 "cells": [
  {
   "cell_type": "code",
   "execution_count": 1,
   "metadata": {},
   "outputs": [],
   "source": [
    "# Imports\n",
    "from bs4 import BeautifulSoup as bs\n",
    "import requests\n",
    "from splinter import Browser\n",
    "import pandas as pd\n",
    "import time\n"
   ]
  },
  {
   "cell_type": "markdown",
   "metadata": {},
   "source": [
    "## 1/ Scraping NASA Mars news"
   ]
  },
  {
   "cell_type": "raw",
   "metadata": {},
   "source": [
    "Scrape the NASA Mars News Site and collect the latest News Title and Paragraph Text. \n",
    "Assign the text to variables that you can reference later. -> news_title / news_p\n",
    "# Example:\n",
    "news_title = \"NASA's Next Mars Mission to Investigate Interior of Red Planet\"\n",
    "news_p = \"Preparation of NASA's next spacecraft to Mars, InSight, has ramped up this summer, on course for launch next May from Vandenberg Air Force Base in central California -- the first interplanetary launch in history from America's West Coast.\"\n"
   ]
  },
  {
   "cell_type": "code",
   "execution_count": 2,
   "metadata": {},
   "outputs": [],
   "source": [
    "# URL of page to be scraped\n",
    "url = 'https://mars.nasa.gov/news/?page=0&per_page=40&order=publish_date+desc%2Ccreated_at+desc&search=&category=19%2C165%2C184%2C204&blank_scope=Latest'\n",
    "# Retrieve page with the requests module\n",
    "response = requests.get(url)\n",
    "# Create BeautifulSoup object; parse with 'lxml'\n",
    "soup = bs(response.text, 'lxml')"
   ]
  },
  {
   "cell_type": "code",
   "execution_count": 3,
   "metadata": {},
   "outputs": [],
   "source": [
    "# Grabbing the slides of the NASA mars news page\n",
    "results = soup.find_all('div', class_='slide')\n",
    "# title = results[0].find('div', class_=\"content_title\").text.strip()\n",
    "# p = results[0].find('div', class_=\"rollover_description_inner\").text.strip()\n",
    "### Why do I get only 6 paragraphs????"
   ]
  },
  {
   "cell_type": "code",
   "execution_count": 4,
   "metadata": {},
   "outputs": [],
   "source": [
    "# Building a list of dictionnaries containing the title and paragraph of each article\n",
    "mars_news = []\n",
    "for rr in results:\n",
    "    mars_news.append({'news_title':  rr.find('div', class_=\"content_title\").text.strip(),\n",
    "                     'news_p': rr.find('div', class_=\"rollover_description_inner\").text.strip()})"
   ]
  },
  {
   "cell_type": "markdown",
   "metadata": {},
   "source": [
    "## 2/ JPL Mars Space Images"
   ]
  },
  {
   "cell_type": "raw",
   "metadata": {},
   "source": [
    "Visit the url for JPL Featured Space Image.\n",
    " Use splinter to navigate the site and find the image url for the current Featured Mars Image and assign the url string to a variable called featured_image_url.\n",
    " Make sure to find the image url to the full size .jpg image.\n",
    " Make sure to save a complete url string for this image\n",
    " \n",
    " # Example:\n",
    "featured_image_url = 'https://www.jpl.nasa.gov/spaceimages/images/largesize/PIA16225_hires.jpg'\n",
    "\n",
    "# https://www.jpl.nasa.gov/spaceimages/images/largesize/PIA22740_hires.jpg\n"
   ]
  },
  {
   "cell_type": "code",
   "execution_count": 5,
   "metadata": {},
   "outputs": [],
   "source": [
    "executable_path = {'executable_path': 'chromedriver.exe'}\n",
    "browser = Browser('chrome', **executable_path, headless=False)"
   ]
  },
  {
   "cell_type": "code",
   "execution_count": 6,
   "metadata": {},
   "outputs": [],
   "source": [
    "url = \"https://www.jpl.nasa.gov/spaceimages/?search=featured&category=Mars#submit\"\n",
    "browser.visit(url)\n",
    "time.sleep(3)"
   ]
  },
  {
   "cell_type": "code",
   "execution_count": 18,
   "metadata": {},
   "outputs": [],
   "source": [
    "# Let's try to fill the research field\n",
    "# browser.fill('search', 'featured')\n",
    "# couldn't make it work\n",
    "# >> WebDriverException: Message: unknown error: call function result missing 'value'\n",
    "\n",
    "# Let's try to select the category\n",
    "# browser.choose('category', 'Mars')\n",
    "# couldn't make it work either: no error but nothing happens\n",
    "\n",
    "# if it's not to interact with the webpage I dont really know why we would need splinter\n",
    "# I guess it's for automating the scraping without having the browser open?"
   ]
  },
  {
   "cell_type": "code",
   "execution_count": 7,
   "metadata": {},
   "outputs": [],
   "source": [
    "# Scrape page into Soup\n",
    "html = browser.html\n",
    "soup = bs(html, \"html.parser\")\n",
    "\n"
   ]
  },
  {
   "cell_type": "code",
   "execution_count": 11,
   "metadata": {},
   "outputs": [
    {
     "data": {
      "text/plain": [
       "['https://www.jpl.nasa.gov/spaceimages/images/mediumsize/PIA18432_ip.jpg',\n",
       " 'https://www.jpl.nasa.gov/spaceimages/images/largesize/PIA22067_hires.jpg',\n",
       " 'https://www.jpl.nasa.gov/spaceimages/images/largesize/PIA22065_hires.jpg',\n",
       " 'https://www.jpl.nasa.gov/spaceimages/images/largesize/PIA12249_hires.jpg',\n",
       " 'https://www.jpl.nasa.gov/spaceimages/images/largesize/PIA09023_hires.jpg',\n",
       " 'https://www.jpl.nasa.gov/spaceimages/images/largesize/PIA01887_hires.jpg',\n",
       " 'https://www.jpl.nasa.gov/spaceimages/images/largesize/PIA08545_hires.jpg',\n",
       " 'https://www.jpl.nasa.gov/spaceimages/images/largesize/PIA03007_hires.jpg',\n",
       " 'https://www.jpl.nasa.gov/spaceimages/images/largesize/PIA06956_hires.jpg',\n",
       " 'https://www.jpl.nasa.gov/spaceimages/images/largesize/PIA06893_hires.jpg',\n",
       " 'https://www.jpl.nasa.gov/spaceimages/images/largesize/PIA06892_hires.jpg',\n",
       " 'https://www.jpl.nasa.gov/spaceimages/images/largesize/PIA06891_hires.jpg',\n",
       " 'https://www.jpl.nasa.gov/spaceimages/images/largesize/PIA05572_hires.jpg',\n",
       " 'https://www.jpl.nasa.gov/spaceimages/images/largesize/PIA05296_hires.jpg',\n",
       " 'https://www.jpl.nasa.gov/spaceimages/images/largesize/PIA04688_hires.jpg',\n",
       " 'https://www.jpl.nasa.gov/spaceimages/images/largesize/PIA04438_hires.jpg',\n",
       " 'https://www.jpl.nasa.gov/spaceimages/images/largesize/PIA02040_hires.jpg',\n",
       " 'https://www.jpl.nasa.gov/spaceimages/images/largesize/PIA00785_hires.jpg',\n",
       " 'https://www.jpl.nasa.gov/spaceimages/images/largesize/PIA00796_hires.jpg',\n",
       " 'https://www.jpl.nasa.gov/spaceimages/images/largesize/PIA00682_hires.jpg',\n",
       " 'https://www.jpl.nasa.gov/spaceimages/images/largesize/PIA00681_hires.jpg',\n",
       " 'https://www.jpl.nasa.gov/spaceimages/images/largesize/PIA00680_hires.jpg',\n",
       " 'https://www.jpl.nasa.gov/spaceimages/images/largesize/PIA00679_hires.jpg',\n",
       " 'https://www.jpl.nasa.gov/spaceimages/images/largesize/PIA00678_hires.jpg']"
      ]
     },
     "execution_count": 11,
     "metadata": {},
     "output_type": "execute_result"
    }
   ],
   "source": [
    "# look for the url of the fullsize images\n",
    "# a class=\"fancybox\"\n",
    "# data-fancybox-href\n",
    "results = soup.find_all('a', class_='fancybox')\n",
    "url_base = \"https://www.jpl.nasa.gov\"\n",
    "featured_image_url = []\n",
    "for rr in results:\n",
    "    featured_image_url.append(url_base+rr[\"data-fancybox-href\"])\n",
    "    \n",
    "featured_image_url\n"
   ]
  },
  {
   "cell_type": "code",
   "execution_count": 9,
   "metadata": {},
   "outputs": [],
   "source": [
    "\n",
    "# Close the browser after scraping\n",
    "browser.quit()"
   ]
  },
  {
   "cell_type": "markdown",
   "metadata": {},
   "source": [
    "## 3/ Mars Weather"
   ]
  },
  {
   "cell_type": "raw",
   "metadata": {},
   "source": [
    "Visit the Mars Facts webpage and use Pandas to scrape the table containing facts about the \n",
    "planet including Diameter, Mass, etc.\n",
    "Use Pandas to convert the data to a HTML table string\n",
    "# Example:\n",
    "mars_weather = 'Sol 1801 (Aug 30, 2017), Sunny, high -21C/-5F, low -80C/-112F, pressure at 8.82 hPa, daylight 06:09-17:55'\n"
   ]
  },
  {
   "cell_type": "code",
   "execution_count": null,
   "metadata": {},
   "outputs": [],
   "source": []
  },
  {
   "cell_type": "markdown",
   "metadata": {},
   "source": [
    "## 4/ Mars Hemispheres"
   ]
  },
  {
   "cell_type": "raw",
   "metadata": {},
   "source": [
    " Visit the USGS Astrogeology site here to obtain high resolution images for each of Mar's hemispheres.\n",
    "You will need to click each of the links to the hemispheres in order to find the image url to the full \n",
    "resolution image.\n",
    "Save both the image url string for the full resolution hemisphere image, and the Hemisphere\n",
    "title containing the hemisphere name. \n",
    "Use a Python dictionary to store the data using the keys img_url and title.\n",
    "Append the dictionary with the image url string and the hemisphere title to a list. \n",
    "This list will contain one dictionary for each hemisphere\n",
    "\n",
    "example:\n",
    "hemisphere_image_urls = [\n",
    "    {\"title\": \"Valles Marineris Hemisphere\", \"img_url\": \"...\"},\n",
    "    {\"title\": \"Cerberus Hemisphere\", \"img_url\": \"...\"},\n",
    "    {\"title\": \"Schiaparelli Hemisphere\", \"img_url\": \"...\"},\n",
    "    {\"title\": \"Syrtis Major Hemisphere\", \"img_url\": \"...\"},\n",
    "]"
   ]
  },
  {
   "cell_type": "code",
   "execution_count": null,
   "metadata": {},
   "outputs": [],
   "source": []
  },
  {
   "cell_type": "code",
   "execution_count": null,
   "metadata": {},
   "outputs": [],
   "source": []
  },
  {
   "cell_type": "code",
   "execution_count": null,
   "metadata": {},
   "outputs": [],
   "source": []
  }
 ],
 "metadata": {
  "kernelspec": {
   "display_name": "Python 3",
   "language": "python",
   "name": "python3"
  },
  "language_info": {
   "codemirror_mode": {
    "name": "ipython",
    "version": 3
   },
   "file_extension": ".py",
   "mimetype": "text/x-python",
   "name": "python",
   "nbconvert_exporter": "python",
   "pygments_lexer": "ipython3",
   "version": "3.6.5"
  }
 },
 "nbformat": 4,
 "nbformat_minor": 2
}
